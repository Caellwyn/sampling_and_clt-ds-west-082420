{
 "cells": [
  {
   "cell_type": "markdown",
   "metadata": {
    "slideshow": {
     "slide_type": "slide"
    }
   },
   "source": [
    "# Sampling and the Central Limit Theorem\n",
    "\n",
    "![sample](https://media.giphy.com/media/OsOP6zRwxrnji/giphy.gif)"
   ]
  },
  {
   "cell_type": "markdown",
   "metadata": {},
   "source": [
    "# Agenda \n",
    "\n",
    "1. Differentiate terms: discriptive/inferential, statistics population/sample, paramater/statistic, sample distribution/sampling distribution\n",
    "2. Define and calculate standard error\n",
    "3. Use Numpy to randomly sample a distribution\n",
    "4. Describe the central limit theorem and connect it to our knowledge of distributions and sampling.\n",
    "5. Divy Example Continued"
   ]
  },
  {
   "cell_type": "markdown",
   "metadata": {},
   "source": [
    "## Probability vs Statistics\n",
    "- Probability starts with known probabilities and obtains how probable any particular observation would be\n",
    "- Statistics works the other way around. Start with and observations (data) and try to determine its probability"
   ]
  },
  {
   "cell_type": "markdown",
   "metadata": {},
   "source": [
    "## Descriptive vs Inferential Statistics\n",
    "- Descriptive Statistics\n",
    "   > simply describe what is observed. The average height of a high school football team can be directly calculated by measuring all of the current players height.\n",
    "- Inferential statistics \n",
    "    > try to say something general about a larger group of subjects than those we have measured. For example, we would be doing inferential statistics if we wanted to know about the average height of all high school football teams.\n",
    "    - To put it another way, statistical inference is the process by which we take observations of a subset of a group and generalize to the whole group."
   ]
  },
  {
   "cell_type": "markdown",
   "metadata": {
    "slideshow": {
     "slide_type": "slide"
    }
   },
   "source": [
    "## Population Inference\n",
    "\n",
    "The mayor's office has hired Flatiron Data Science Immersive students to determine a way to fix traffic congestion. A good starting point is to determine what proportion of the population of Seattle owns a car.\n",
    "\n",
    "![traffic](https://media.giphy.com/media/3orieWY8RCodjD4qqs/giphy.gif)\n",
    "\n",
    "In order for us to make any determinations about a population, we must first get information about it.\n",
    "\n",
    "Because it's usually completely impractical to get data about *everyone* in a population, we must take a sample.\n",
    "\n",
    "## Key Terms\n",
    " - the entire group is known as the **population**  \n",
    " - the subset is a known as the **sample**\n"
   ]
  },
  {
   "cell_type": "markdown",
   "metadata": {},
   "source": [
    "![pop](./img/sample_pop.png)"
   ]
  },
  {
   "cell_type": "markdown",
   "metadata": {},
   "source": [
    "- We would use samples if the population is:\n",
    "    - Too big to enumerate\n",
    "    - too difficult/time consuming or expensive to sample in its entirety."
   ]
  },
  {
   "cell_type": "markdown",
   "metadata": {},
   "source": [
    "**Random sampling is not easy to do**  \n",
    "Continuing our Seattle car example, how would we take a sample? \n",
    "\n",
    "Here are two strategies we might employ:\n",
    "\n",
    "* Stand outside of Flatiron at 12 pm and ask random people until *n* responses\n",
    "\n",
    "\n",
    "* Go to a randomly assigned street corner and at a random time and ask *n* people if they own a car\n",
    "\n",
    "Which strikes you as better?\n",
    "\n",
    "What do we want our sample to look like?\n",
    "\n",
    "In particular, what relationship do we want between the sample and the population? What steps can we take to improve our odds of success in achieving this?"
   ]
  },
  {
   "cell_type": "markdown",
   "metadata": {},
   "source": [
    "# Discussion\n",
    "\n",
    "![talk amongst yourselves](https://media.giphy.com/media/l2SpQRuCQzY1RXHqM/giphy.gif)"
   ]
  },
  {
   "cell_type": "markdown",
   "metadata": {},
   "source": [
    "The first way of sampling is considered a convenience sample.\n",
    "You are going about collection in a non-random manner"
   ]
  },
  {
   "cell_type": "markdown",
   "metadata": {},
   "source": [
    "# Sample Conditions\n",
    "\n",
    "1. The sampled observations must be independent\n",
    "    - The sampling method must be random  \n",
    "\n",
    "\n",
    "2. Sample size distribution:\n",
    "    - The more skewed the sample the larger samples we need. \n",
    "    - n > 30 is considered a large enough sample unless there is extreme skew"
   ]
  },
  {
   "cell_type": "markdown",
   "metadata": {},
   "source": [
    "\n"
   ]
  },
  {
   "cell_type": "markdown",
   "metadata": {},
   "source": [
    "## Population v Sample Terminology\n",
    "Characteristics of populations are called **parameters**\n",
    "\n",
    "Characteristics of a sample are called **statistics**\n",
    "\n",
    "A sample statistic is a **point estimate** of the population parameter\n",
    "\n",
    "![imgsample](./img/sample_stats.png)"
   ]
  },
  {
   "cell_type": "markdown",
   "metadata": {},
   "source": [
    "# A Simulation to Reinforce Our Definitions"
   ]
  },
  {
   "cell_type": "markdown",
   "metadata": {},
   "source": [
    "Let's create a population of systolic blood pressure of adult males in Chicago, assuming a mean of 114 mmHg with a standard deviation of 11 mmHg.  We will also assume the adult male population to be 1.5 million. \n",
    "\n",
    "It is impossible to measure the systolic blood pressure of every man in Chicago, but let's assume multiple investigations have led to the conclusion numbers above. These are therefore estimators of the population parameter.\n",
    "\n",
    "$\\Large\\hat\\mu = 114$  \n",
    "$\\Large\\hat\\sigma = 11$\n",
    "\n"
   ]
  },
  {
   "cell_type": "code",
   "execution_count": 1,
   "metadata": {},
   "outputs": [
    {
     "ename": "NameError",
     "evalue": "name 'sys_pop' is not defined",
     "output_type": "error",
     "traceback": [
      "\u001b[0;31m---------------------------------------------------------------------------\u001b[0m",
      "\u001b[0;31mNameError\u001b[0m                                 Traceback (most recent call last)",
      "\u001b[0;32m<ipython-input-1-6d9d95e6ddee>\u001b[0m in \u001b[0;36m<module>\u001b[0;34m\u001b[0m\n\u001b[1;32m     10\u001b[0m \u001b[0mfig\u001b[0m\u001b[0;34m,\u001b[0m \u001b[0max\u001b[0m \u001b[0;34m=\u001b[0m \u001b[0mplt\u001b[0m\u001b[0;34m.\u001b[0m\u001b[0msubplots\u001b[0m\u001b[0;34m(\u001b[0m\u001b[0;34m)\u001b[0m\u001b[0;34m\u001b[0m\u001b[0;34m\u001b[0m\u001b[0m\n\u001b[1;32m     11\u001b[0m \u001b[0;34m\u001b[0m\u001b[0m\n\u001b[0;32m---> 12\u001b[0;31m \u001b[0msns\u001b[0m\u001b[0;34m.\u001b[0m\u001b[0mkdeplot\u001b[0m\u001b[0;34m(\u001b[0m\u001b[0msys_pop\u001b[0m\u001b[0;34m,\u001b[0m \u001b[0max\u001b[0m\u001b[0;34m=\u001b[0m\u001b[0max\u001b[0m\u001b[0;34m,\u001b[0m \u001b[0mshade\u001b[0m\u001b[0;34m=\u001b[0m\u001b[0;32mTrue\u001b[0m\u001b[0;34m)\u001b[0m\u001b[0;34m\u001b[0m\u001b[0;34m\u001b[0m\u001b[0m\n\u001b[0m\u001b[1;32m     13\u001b[0m \u001b[0max\u001b[0m\u001b[0;34m.\u001b[0m\u001b[0mset_title\u001b[0m\u001b[0;34m(\u001b[0m\u001b[0;34m'Distribution of Adult Male Systolic Blood Pressure'\u001b[0m\u001b[0;34m)\u001b[0m\u001b[0;34m\u001b[0m\u001b[0;34m\u001b[0m\u001b[0m\n\u001b[1;32m     14\u001b[0m \u001b[0max\u001b[0m\u001b[0;34m.\u001b[0m\u001b[0mset_xlabel\u001b[0m\u001b[0;34m(\u001b[0m\u001b[0;34m'Systolic BP'\u001b[0m\u001b[0;34m)\u001b[0m\u001b[0;34m\u001b[0m\u001b[0;34m\u001b[0m\u001b[0m\n",
      "\u001b[0;31mNameError\u001b[0m: name 'sys_pop' is not defined"
     ]
    },
    {
     "data": {
      "image/png": "[encoded data removed]",
      "text/plain": [
       "<Figure size 432x288 with 1 Axes>"
      ]
     },
     "metadata": {
      "needs_background": "light"
     },
     "output_type": "display_data"
    }
   ],
   "source": [
    "import numpy as np\n",
    "import seaborn as sns\n",
    "import matplotlib.pyplot as plt\n",
    "%load_ext autoreload\n",
    "%autoreload 2\n",
    "\n",
    "pop = int(1.5*10**6)\n",
    "# Use numpy to generate a normal distribution with the paramters above\n",
    "\n",
    "fig, ax = plt.subplots()\n",
    "\n",
    "sns.kdeplot(sys_pop, ax=ax, shade=True)\n",
    "ax.set_title('Distribution of Adult Male Systolic Blood Pressure')\n",
    "ax.set_xlabel('Systolic BP')"
   ]
  },
  {
   "cell_type": "code",
   "execution_count": null,
   "metadata": {},
   "outputs": [],
   "source": [
    "#__SOLUTION__\n",
    "# Use numpy to generate a normal distribution of the \n",
    "sys_pop = np.random.normal(loc=114, scale=11, size=pop)\n",
    "\n",
    "fig, ax = plt.subplots()\n",
    "\n",
    "sns.kdeplot(sys_pop, ax=ax, shade=True)\n",
    "ax.set_title('Distribution of Adult Male Systolic Blood Pressure')\n",
    "ax.set_xlabel('Systolic BP')"
   ]
  },
  {
   "cell_type": "markdown",
   "metadata": {},
   "source": [
    "Let's then imagine we develop an effective manner of random sampling, and simulate with numpy. Our sample size is 40 people.\n"
   ]
  },
  {
   "cell_type": "code",
   "execution_count": null,
   "metadata": {},
   "outputs": [],
   "source": [
    "sample_size = 40\n",
    "sample = np.random.choice()\n",
    "\n",
    "# We can look at the distribution of the values in the sample."
   ]
  },
  {
   "cell_type": "code",
   "execution_count": null,
   "metadata": {},
   "outputs": [],
   "source": [
    "#__SOLUTION__\n",
    "sample_size = 40\n",
    "sample = np.random.choice(sys_pop, sample_size)\n",
    "\n",
    "# We can look at the distribution of the values in the sample."
   ]
  },
  {
   "cell_type": "code",
   "execution_count": null,
   "metadata": {},
   "outputs": [],
   "source": [
    "fig, ax = plt.subplots()\n",
    "sns.distplot(sample, ax=ax, bins=15)\n",
    "ax.set_title('Sample Distribution of Systolic BP Measurements')"
   ]
  },
  {
   "cell_type": "markdown",
   "metadata": {},
   "source": [
    "We can then calculate the sample statistics:"
   ]
  },
  {
   "cell_type": "code",
   "execution_count": null,
   "metadata": {},
   "outputs": [],
   "source": [
    "print(f'Sample mean: {sample.mean()}')\n",
    "print(f'Sample standard deviation: {sample.std()}')\n",
    "print(f'Sample median: {np.median(sample)}')"
   ]
  },
  {
   "cell_type": "markdown",
   "metadata": {},
   "source": [
    "If we repeated this process, taking samples of the population repeatedly, we would get an array of sample statistics."
   ]
  },
  {
   "cell_type": "code",
   "execution_count": 2,
   "metadata": {},
   "outputs": [],
   "source": [
    "number_of_samples = 1000\n",
    "sample_size = 40\n",
    "sample_stats = []\n",
    "\n",
    "for _ in range(number_of_samples):\n",
    "    # collect the mean of each of the 1000 samples in sample stats\n",
    "    pass\n"
   ]
  },
  {
   "cell_type": "code",
   "execution_count": 3,
   "metadata": {},
   "outputs": [
    {
     "ename": "NameError",
     "evalue": "name 'sys_pop' is not defined",
     "output_type": "error",
     "traceback": [
      "\u001b[0;31m---------------------------------------------------------------------------\u001b[0m",
      "\u001b[0;31mNameError\u001b[0m                                 Traceback (most recent call last)",
      "\u001b[0;32m<ipython-input-3-bad7180eeee6>\u001b[0m in \u001b[0;36m<module>\u001b[0;34m\u001b[0m\n\u001b[1;32m      5\u001b[0m \u001b[0;34m\u001b[0m\u001b[0m\n\u001b[1;32m      6\u001b[0m \u001b[0;32mfor\u001b[0m \u001b[0m_\u001b[0m \u001b[0;32min\u001b[0m \u001b[0mrange\u001b[0m\u001b[0;34m(\u001b[0m\u001b[0mnumber_of_samples\u001b[0m\u001b[0;34m)\u001b[0m\u001b[0;34m:\u001b[0m\u001b[0;34m\u001b[0m\u001b[0;34m\u001b[0m\u001b[0m\n\u001b[0;32m----> 7\u001b[0;31m     \u001b[0msample\u001b[0m \u001b[0;34m=\u001b[0m \u001b[0mnp\u001b[0m\u001b[0;34m.\u001b[0m\u001b[0mrandom\u001b[0m\u001b[0;34m.\u001b[0m\u001b[0mchoice\u001b[0m\u001b[0;34m(\u001b[0m\u001b[0msys_pop\u001b[0m\u001b[0;34m,\u001b[0m \u001b[0msample_size\u001b[0m\u001b[0;34m)\u001b[0m\u001b[0;34m\u001b[0m\u001b[0;34m\u001b[0m\u001b[0m\n\u001b[0m\u001b[1;32m      8\u001b[0m     \u001b[0;31m# collect the mean of each of the 1000 samples in sample stats\u001b[0m\u001b[0;34m\u001b[0m\u001b[0;34m\u001b[0m\u001b[0;34m\u001b[0m\u001b[0m\n\u001b[1;32m      9\u001b[0m     \u001b[0msample_stats\u001b[0m\u001b[0;34m.\u001b[0m\u001b[0mappend\u001b[0m\u001b[0;34m(\u001b[0m\u001b[0msample\u001b[0m\u001b[0;34m.\u001b[0m\u001b[0mmean\u001b[0m\u001b[0;34m(\u001b[0m\u001b[0;34m)\u001b[0m\u001b[0;34m)\u001b[0m\u001b[0;34m\u001b[0m\u001b[0;34m\u001b[0m\u001b[0m\n",
      "\u001b[0;31mNameError\u001b[0m: name 'sys_pop' is not defined"
     ]
    }
   ],
   "source": [
    "#__SOLUTION__\n",
    "number_of_samples = 1000\n",
    "sample_size = 40\n",
    "sample_stats = []\n",
    "\n",
    "for _ in range(number_of_samples):\n",
    "    sample = np.random.choice(sys_pop, sample_size)\n",
    "    # collect the mean of each of the 1000 samples in sample stats\n",
    "    sample_stats.append(sample.mean())\n"
   ]
  },
  {
   "cell_type": "markdown",
   "metadata": {},
   "source": [
    "The collection of sample stats represents our __sampling distribution__"
   ]
  },
  {
   "cell_type": "code",
   "execution_count": 4,
   "metadata": {},
   "outputs": [
    {
     "data": {
      "image/png": "[encoded data removed]",
      "text/plain": [
       "<Figure size 432x288 with 1 Axes>"
      ]
     },
     "metadata": {
      "needs_background": "light"
     },
     "output_type": "display_data"
    }
   ],
   "source": [
    "fig, ax = plt.subplots()\n",
    "ax.hist(sorted(sample_stats), bins=20)\n",
    "ax.set_title('Sampling Distribution\\n of Systolic BP')\n",
    "ax.set_xlabel(\"Systolic Blood Pressure\")\n",
    "ax.set_ylabel('Count');"
   ]
  },
  {
   "cell_type": "markdown",
   "metadata": {},
   "source": [
    "An interesting property of this sampling distribution:\n",
    "    \n",
    "As we continue to sample, the mean of the sampling distribution gets closer and closer to the population mean."
   ]
  },
  {
   "cell_type": "markdown",
   "metadata": {
    "slideshow": {
     "slide_type": "slide"
    }
   },
   "source": [
    "### Standard Error of the Mean"
   ]
  },
  {
   "cell_type": "markdown",
   "metadata": {},
   "source": [
    "The standard error of the mean is the standard deviation of the sampling distribution.\n",
    "The issue is that a sample is not an exact replica of the population. We need to account for that fact in order to make our estimate of the $\\mu$ value possible. Let's break it down:\n",
    "\n",
    "**Population sigma** <br/>\n",
    "\n",
    "$\\large\\sigma _{x} = \\frac{\\sigma }{\\sqrt{n}}$\n",
    "\n",
    "* $ \\sigma _{x}$ = standard error of $\\bar{x} $\n",
    "* $ \\sigma $ = standard deviation of population"
   ]
  },
  {
   "cell_type": "markdown",
   "metadata": {},
   "source": [
    "### What is the standard error of the mean for systolic blood pressure example with known mean and standard deviation, assuming a sample size of 40"
   ]
  },
  {
   "cell_type": "code",
   "execution_count": 5,
   "metadata": {},
   "outputs": [
    {
     "data": {
      "text/plain": [
       "1.7392527130926085"
      ]
     },
     "execution_count": 5,
     "metadata": {},
     "output_type": "execute_result"
    }
   ],
   "source": [
    "#__SOLUTION__\n",
    "11/np.sqrt(40)"
   ]
  },
  {
   "cell_type": "markdown",
   "metadata": {
    "slideshow": {
     "slide_type": "slide"
    }
   },
   "source": [
    "**What if we do not know the population sigma?**<br>\n",
    "If we do not know the population standard deviation, we can approximate it by using the sample standard deviation.\n",
    "\n",
    "$\\large\\sigma _{x} ≈ \\frac{s}{\\sqrt{n}}$\n",
    "\n",
    "* s = sample standard deviation"
   ]
  },
  {
   "cell_type": "code",
   "execution_count": 6,
   "metadata": {},
   "outputs": [
    {
     "data": {
      "text/plain": [
       "1.711551865397192"
      ]
     },
     "execution_count": 6,
     "metadata": {},
     "output_type": "execute_result"
    }
   ],
   "source": [
    "#__SOLUTION__\n",
    "np.random.normal(114, 11, 40).std()/np.sqrt(40)"
   ]
  },
  {
   "cell_type": "markdown",
   "metadata": {
    "slideshow": {
     "slide_type": "slide"
    }
   },
   "source": [
    "**Sample size impact on standard error of mean**<br>\n",
    "\n",
    "How should sample size influence standard error of the mean?\n",
    "\n",
    "It will get *smaller* as sample size *increases*\n",
    "\n",
    "![error](./img/diminishing_error.png)  \n",
    "Important implication: The Standard Error of the mean remains the same as long as the population standard deviation is known and sample size remains the same.\n"
   ]
  },
  {
   "cell_type": "code",
   "execution_count": 7,
   "metadata": {},
   "outputs": [],
   "source": [
    "def standard_error(distribution, largest_sample_size, population_std=None):\n",
    "    \n",
    "    '''\n",
    "    Calculate the standard errors for a range of sample sizes\n",
    "    to demonstrate how standard error decreases when sample \n",
    "    size increases.\n",
    "    '''\n",
    " \n",
    "    std_errors = {}\n",
    "    \n",
    "    for sample_size in range(50,largest_sample_size+1):\n",
    "        sample = np.random.choice(distribution, size=sample_size, replace=True)\n",
    "        # Standard error with sample distribution standard deviation \n",
    "        # in place of population\n",
    "        if population_std == None:\n",
    "            std_err = np.std(sample)/np.sqrt(sample_size)\n",
    "            std_errors[sample_size] = std_err\n",
    "        \n",
    "        else:\n",
    "            std_err = population_std/np.sqrt(sample_size)\n",
    "            std_errors[sample_size] = std_err\n",
    "        \n",
    "    return std_errors\n",
    "    "
   ]
  },
  {
   "cell_type": "code",
   "execution_count": 8,
   "metadata": {},
   "outputs": [
    {
     "ename": "NameError",
     "evalue": "name 'sys_pop' is not defined",
     "output_type": "error",
     "traceback": [
      "\u001b[0;31m---------------------------------------------------------------------------\u001b[0m",
      "\u001b[0;31mNameError\u001b[0m                                 Traceback (most recent call last)",
      "\u001b[0;32m<ipython-input-8-460acf2b5649>\u001b[0m in \u001b[0;36m<module>\u001b[0;34m\u001b[0m\n\u001b[0;32m----> 1\u001b[0;31m \u001b[0mstd_errors\u001b[0m \u001b[0;34m=\u001b[0m \u001b[0mstandard_error\u001b[0m\u001b[0;34m(\u001b[0m\u001b[0msys_pop\u001b[0m\u001b[0;34m,\u001b[0m \u001b[0;36m1000\u001b[0m\u001b[0;34m)\u001b[0m\u001b[0;34m\u001b[0m\u001b[0;34m\u001b[0m\u001b[0m\n\u001b[0m\u001b[1;32m      2\u001b[0m \u001b[0;34m\u001b[0m\u001b[0m\n\u001b[1;32m      3\u001b[0m \u001b[0mfig\u001b[0m\u001b[0;34m,\u001b[0m \u001b[0max\u001b[0m \u001b[0;34m=\u001b[0m \u001b[0mplt\u001b[0m\u001b[0;34m.\u001b[0m\u001b[0msubplots\u001b[0m\u001b[0;34m(\u001b[0m\u001b[0;34m)\u001b[0m\u001b[0;34m\u001b[0m\u001b[0;34m\u001b[0m\u001b[0m\n\u001b[1;32m      4\u001b[0m \u001b[0;34m\u001b[0m\u001b[0m\n\u001b[1;32m      5\u001b[0m \u001b[0msns\u001b[0m\u001b[0;34m.\u001b[0m\u001b[0mscatterplot\u001b[0m\u001b[0;34m(\u001b[0m\u001b[0mlist\u001b[0m\u001b[0;34m(\u001b[0m\u001b[0mstd_errors\u001b[0m\u001b[0;34m.\u001b[0m\u001b[0mkeys\u001b[0m\u001b[0;34m(\u001b[0m\u001b[0;34m)\u001b[0m\u001b[0;34m)\u001b[0m\u001b[0;34m,\u001b[0m \u001b[0mlist\u001b[0m\u001b[0;34m(\u001b[0m\u001b[0mstd_errors\u001b[0m\u001b[0;34m.\u001b[0m\u001b[0mvalues\u001b[0m\u001b[0;34m(\u001b[0m\u001b[0;34m)\u001b[0m\u001b[0;34m)\u001b[0m\u001b[0;34m)\u001b[0m\u001b[0;34m\u001b[0m\u001b[0;34m\u001b[0m\u001b[0m\n",
      "\u001b[0;31mNameError\u001b[0m: name 'sys_pop' is not defined"
     ]
    }
   ],
   "source": [
    "std_errors = standard_error(sys_pop, 1000)\n",
    "\n",
    "fig, ax = plt.subplots()\n",
    "\n",
    "sns.scatterplot(list(std_errors.keys()), list(std_errors.values()))"
   ]
  },
  {
   "cell_type": "code",
   "execution_count": 9,
   "metadata": {},
   "outputs": [
    {
     "ename": "NameError",
     "evalue": "name 'sys_pop' is not defined",
     "output_type": "error",
     "traceback": [
      "\u001b[0;31m---------------------------------------------------------------------------\u001b[0m",
      "\u001b[0;31mNameError\u001b[0m                                 Traceback (most recent call last)",
      "\u001b[0;32m<ipython-input-9-9a5d33d6c229>\u001b[0m in \u001b[0;36m<module>\u001b[0;34m\u001b[0m\n\u001b[0;32m----> 1\u001b[0;31m \u001b[0mstd_errors\u001b[0m \u001b[0;34m=\u001b[0m \u001b[0mstandard_error\u001b[0m\u001b[0;34m(\u001b[0m\u001b[0msys_pop\u001b[0m\u001b[0;34m,\u001b[0m \u001b[0;36m1000\u001b[0m\u001b[0;34m,\u001b[0m \u001b[0mpopulation_std\u001b[0m\u001b[0;34m=\u001b[0m\u001b[0;36m114\u001b[0m\u001b[0;34m)\u001b[0m\u001b[0;34m\u001b[0m\u001b[0;34m\u001b[0m\u001b[0m\n\u001b[0m\u001b[1;32m      2\u001b[0m \u001b[0;34m\u001b[0m\u001b[0m\n\u001b[1;32m      3\u001b[0m \u001b[0mfig\u001b[0m\u001b[0;34m,\u001b[0m \u001b[0max\u001b[0m \u001b[0;34m=\u001b[0m \u001b[0mplt\u001b[0m\u001b[0;34m.\u001b[0m\u001b[0msubplots\u001b[0m\u001b[0;34m(\u001b[0m\u001b[0;34m)\u001b[0m\u001b[0;34m\u001b[0m\u001b[0;34m\u001b[0m\u001b[0m\n\u001b[1;32m      4\u001b[0m \u001b[0;34m\u001b[0m\u001b[0m\n\u001b[1;32m      5\u001b[0m \u001b[0msns\u001b[0m\u001b[0;34m.\u001b[0m\u001b[0mscatterplot\u001b[0m\u001b[0;34m(\u001b[0m\u001b[0mlist\u001b[0m\u001b[0;34m(\u001b[0m\u001b[0mstd_errors\u001b[0m\u001b[0;34m.\u001b[0m\u001b[0mkeys\u001b[0m\u001b[0;34m(\u001b[0m\u001b[0;34m)\u001b[0m\u001b[0;34m)\u001b[0m\u001b[0;34m,\u001b[0m \u001b[0mlist\u001b[0m\u001b[0;34m(\u001b[0m\u001b[0mstd_errors\u001b[0m\u001b[0;34m.\u001b[0m\u001b[0mvalues\u001b[0m\u001b[0;34m(\u001b[0m\u001b[0;34m)\u001b[0m\u001b[0;34m)\u001b[0m\u001b[0;34m)\u001b[0m\u001b[0;34m\u001b[0m\u001b[0;34m\u001b[0m\u001b[0m\n",
      "\u001b[0;31mNameError\u001b[0m: name 'sys_pop' is not defined"
     ]
    }
   ],
   "source": [
    "std_errors = standard_error(sys_pop, 1000, population_std=114)\n",
    "\n",
    "fig, ax = plt.subplots()\n",
    "\n",
    "sns.scatterplot(list(std_errors.keys()), list(std_errors.values()))"
   ]
  },
  {
   "cell_type": "markdown",
   "metadata": {},
   "source": [
    "# Word Exercise \n",
    "Put the variables in the correct place.\n"
   ]
  },
  {
   "cell_type": "code",
   "execution_count": 10,
   "metadata": {},
   "outputs": [
    {
     "name": "stdout",
     "output_type": "stream",
     "text": [
      "We sampled 40 bee hives and calcuted the mean colony population \n",
      "          to be 75,690 bees. 75,690 is a population of the population paramter\n",
      "\n",
      "We repeatedly sample 40 people at random from Seattle and \n",
      "        measure their heart rate,then calculate the mean of each sample. \n",
      "        We call the plot of this collection of statistics\n",
      "        the sample distribution.\n",
      "        \n",
      "There are exactly 58 Javan Rhino's left in the wild. \n",
      "        Their mean length has been measured accurately at 5 feet.\n",
      "        This mean length is considered a population point estimate. \n",
      "        \n",
      "If we plot a histogram of individual pistil lengths \n",
      "      measured on 50 hibiscus flowers, we would be plotting the distribution \n",
      "      of an attribute of our statistic of hibiscus flowers. \n",
      "        \n",
      "Since every restaurant in Chicago is required by law to register\n",
      "        with the city, we can accurately count the number of active pizza restaurants\n",
      "         operating right now.  This group represents the parameter of actively \n",
      "        operating, registered pizza restaurants in Chicago.\n",
      "    \n",
      "The mean number of hourly hits to Jelle's Marble Racing website \n",
      "            randomly sampled across a seven day period represents a sample\n",
      "            sampling.\n",
      "        \n"
     ]
    }
   ],
   "source": [
    "\n",
    "var_1 = 'population'\n",
    "var_2 = 'sample'\n",
    "var_3 = 'point estimate'\n",
    "var_4 = 'statistic'\n",
    "var_5 = 'parameter'\n",
    "var_6 = 'sampling'\n",
    "\n",
    "\n",
    "print(f\"\"\"We sampled 40 bee hives and calcuted the mean colony population \n",
    "          to be 75,690 bees. 75,690 is a {var_1} of the population paramter\\n\"\"\")\n",
    "\n",
    "print(f\"\"\"We repeatedly sample 40 people at random from Seattle and \n",
    "        measure their heart rate,then calculate the mean of each sample. \n",
    "        We call the plot of this collection of statistics\n",
    "        the {var_2} distribution.\n",
    "        \"\"\")\n",
    "\n",
    "print(f\"\"\"There are exactly 58 Javan Rhino's left in the wild. \n",
    "        Their mean length has been measured accurately at 5 feet.\n",
    "        This mean length is considered a population {var_3}. \n",
    "        \"\"\")\n",
    "\n",
    "print(f\"\"\"If we plot a histogram of individual pistil lengths \n",
    "      measured on 50 hibiscus flowers, we would be plotting the distribution \n",
    "      of an attribute of our {var_4} of hibiscus flowers. \n",
    "        \"\"\")\n",
    "\n",
    "print(f\"\"\"Since every restaurant in Chicago is required by law to register\n",
    "        with the city, we can accurately count the number of active pizza restaurants\n",
    "         operating right now.  This group represents the {var_5} of actively \n",
    "        operating, registered pizza restaurants in Chicago.\n",
    "    \"\"\")\n",
    "\n",
    "print(f\"\"\"The mean number of hourly hits to Jelle's Marble Racing website \n",
    "            randomly sampled across a seven day period represents a sample\n",
    "            {var_6}.\n",
    "        \"\"\")"
   ]
  },
  {
   "cell_type": "code",
   "execution_count": 11,
   "metadata": {},
   "outputs": [
    {
     "name": "stdout",
     "output_type": "stream",
     "text": [
      "We sampled 40 bee hives and calcuted the mean colony population \n",
      "          to be 75,690 bees. 75,690 is a point estimate of the population paramter\n",
      "\n",
      "We repeatedly sample 40 people at random from Seattle and \n",
      "        measure their heart rate,then calculate the mean of each sample. \n",
      "        We call the plot of this collection of statistics\n",
      "        the sampling distribution.\n",
      "        \n",
      "There are exactly 58 Javan Rhino's left in the wild. \n",
      "        Their mean length has been measured accurately at 5 feet.\n",
      "        This mean length is considered a population parameter. \n",
      "        \n",
      "If we plot a histogram of individual pistil lengths \n",
      "      measured on 50 hibiscus flowers, we would be plotting the distribution \n",
      "      of an attribute of our sample of hibiscus flowers. \n",
      "        \n",
      "Since every restaurant in Chicago is required by law to register\n",
      "        with the city, we can accurately count the number of active pizza restaurants\n",
      "        actively operating right now.  This group represents the population of actively \n",
      "        operating, registered pizza restaurants in Chicago.\n",
      "    \n",
      "The mean number of hourly hits to Jelle's Marble Racing website \n",
      "            randomly sampled across a seven day period represents a sample\n",
      "            statistic.\n",
      "        \n"
     ]
    }
   ],
   "source": [
    "#__SOLUTION__\n",
    "# Word Exercise\n",
    "\n",
    "var_1 = 'population'\n",
    "var_2 = 'sample'\n",
    "var_3 = 'point estimate'\n",
    "var_4 = 'statistic'\n",
    "var_5 = 'parameter'\n",
    "var_6 = 'sampling'\n",
    "\n",
    "\n",
    "print(f\"\"\"We sampled 40 bee hives and calcuted the mean colony population \n",
    "          to be 75,690 bees. 75,690 is a {var_3} of the population paramter\\n\"\"\")\n",
    "\n",
    "print(f\"\"\"We repeatedly sample 40 people at random from Seattle and \n",
    "        measure their heart rate,then calculate the mean of each sample. \n",
    "        We call the plot of this collection of statistics\n",
    "        the {var_6} distribution.\n",
    "        \"\"\")\n",
    "\n",
    "print(f\"\"\"There are exactly 58 Javan Rhino's left in the wild. \n",
    "        Their mean length has been measured accurately at 5 feet.\n",
    "        This mean length is considered a population {var_5}. \n",
    "        \"\"\")\n",
    "\n",
    "print(f\"\"\"If we plot a histogram of individual pistil lengths \n",
    "      measured on 50 hibiscus flowers, we would be plotting the distribution \n",
    "      of an attribute of our {var_2} of hibiscus flowers. \n",
    "        \"\"\")\n",
    "\n",
    "print(f\"\"\"Since every restaurant in Chicago is required by law to register\n",
    "        with the city, we can accurately count the number of active pizza restaurants\n",
    "        actively operating right now.  This group represents the {var_1} of actively \n",
    "        operating, registered pizza restaurants in Chicago.\n",
    "    \"\"\")\n",
    "\n",
    "print(f\"\"\"The mean number of hourly hits to Jelle's Marble Racing website \n",
    "            randomly sampled across a seven day period represents a sample\n",
    "            {var_4}.\n",
    "        \"\"\")"
   ]
  },
  {
   "cell_type": "markdown",
   "metadata": {
    "slideshow": {
     "slide_type": "fragment"
    }
   },
   "source": [
    "\n",
    "# 2. Use numpy to randomly sample a distribution\n"
   ]
  },
  {
   "cell_type": "markdown",
   "metadata": {
    "slideshow": {
     "slide_type": "slide"
    }
   },
   "source": [
    "\n"
   ]
  },
  {
   "cell_type": "markdown",
   "metadata": {},
   "source": [
    "## Group Exercise"
   ]
  },
  {
   "cell_type": "markdown",
   "metadata": {},
   "source": [
    "Below, we have four different sample scenarios.  Each group will code out the following: \n",
    "\n",
    "You are given a \"population\" to sample from based on the type of distribution.\n",
    "\n",
    "1. Take a random sample of size n, where n > 30, from the population and calculate the mean of that population.\n",
    "\n",
    "2. Repeat the sample n numbers of times (n = 1000). \n",
    "\n",
    "3. Plot the sampling distribution"
   ]
  },
  {
   "cell_type": "code",
   "execution_count": 12,
   "metadata": {},
   "outputs": [
    {
     "name": "stdout",
     "output_type": "stream",
     "text": [
      "The autoreload extension is already loaded. To reload it, use:\n",
      "  %reload_ext autoreload\n"
     ]
    }
   ],
   "source": [
    "%load_ext autoreload\n",
    "%autoreload 2\n",
    "from src.student_list import student_first_names\n"
   ]
  },
  {
   "cell_type": "code",
   "execution_count": 13,
   "metadata": {},
   "outputs": [
    {
     "data": {
      "text/plain": [
       "['Ali',\n",
       " 'Andrew',\n",
       " 'Angie',\n",
       " 'Elena',\n",
       " 'Hunter',\n",
       " 'Jeffrey',\n",
       " 'Jonathan',\n",
       " 'Josh',\n",
       " 'Karim',\n",
       " 'Matthew',\n",
       " 'Ozair',\n",
       " 'Paul',\n",
       " 'Prabhakar',\n",
       " 'Reuben',\n",
       " 'Sam',\n",
       " 'Sindhu',\n",
       " 'William']"
      ]
     },
     "execution_count": 13,
     "metadata": {},
     "output_type": "execute_result"
    }
   ],
   "source": [
    "student_first_names"
   ]
  },
  {
   "cell_type": "code",
   "execution_count": 15,
   "metadata": {},
   "outputs": [
    {
     "name": "stdout",
     "output_type": "stream",
     "text": [
      "group 1 ['Karim' 'Matthew' 'William' 'Josh']\n",
      "group 2 ['Ali' 'Jonathan' 'Elena' 'Sindhu']\n",
      "group 3 ['Andrew' 'Paul' 'Reuben' 'Prabhakar']\n",
      "group 4: ['Angie', 'Hunter', 'Jeffrey', 'Ozair', 'Sam']\n"
     ]
    }
   ],
   "source": [
    "qpe = student_first_names\n",
    "for n in range(1,4):\n",
    "    group = np.random.choice(student_first_names, 4, replace=False)\n",
    "    print(f'group {n}', group)\n",
    "    for name in list(group):\n",
    "        qpe.remove(name)\n",
    "print(f\"group 4: {qpe}\")"
   ]
  },
  {
   "cell_type": "markdown",
   "metadata": {},
   "source": [
    "## Group 1:\n",
    "\n",
    "A bowler on the PBA rolls a strike 60% of the time. The population strikes of all games ever bowled is stored in in the population variable below.\n"
   ]
  },
  {
   "cell_type": "code",
   "execution_count": null,
   "metadata": {},
   "outputs": [],
   "source": [
    "population = np.random.binomial(12, .6, 10000)\n",
    "fig, ax = plt.subplots()\n",
    "ax.bar(range(0,12), np.unique(population, return_counts=True)[1])\n",
    "ax.set_title('Strikes Per Game')"
   ]
  },
  {
   "cell_type": "code",
   "execution_count": null,
   "metadata": {},
   "outputs": [],
   "source": [
    "#__SOLUTION__\n",
    "\n",
    "sample_means = []\n",
    "for n in range(1000):\n",
    "    sample = np.random.choice(population, 50)\n",
    "    sample_means.append(sample.mean())\n",
    "    \n",
    "fig, ax = plt.subplots()\n",
    "ax.hist(sample_means, bins = 20)"
   ]
  },
  {
   "cell_type": "markdown",
   "metadata": {},
   "source": [
    "## Group 2:\n",
    "\n",
    "Stored in the variable below is the number of pieces of mail that arrive per week at your door for each of the 4500 weeks in your life.  "
   ]
  },
  {
   "cell_type": "code",
   "execution_count": null,
   "metadata": {},
   "outputs": [],
   "source": [
    "mail_population = np.random.poisson(3, 4500)\n",
    "counts = np.unique(mail_population, return_counts=True)\n",
    "\n",
    "fig, ax = plt.subplots()\n",
    "ax.bar(np.unique(counts[0]), counts[1])\n",
    "ax.set_title('Distribution of Pieces of Mail/Week')\n",
    "ax.set_xlabel(\"Pieces of Mail\")"
   ]
  },
  {
   "cell_type": "code",
   "execution_count": null,
   "metadata": {},
   "outputs": [],
   "source": [
    "#__SOLUTION__\n",
    "\n",
    "sample_means = []\n",
    "for n in range(1000):\n",
    "    sample = np.random.choice(mail_population, 50)\n",
    "    sample_means.append(sample.mean())\n",
    "    \n",
    "fig, ax = plt.subplots()\n",
    "ax.hist(sample_means, bins = 30)\n",
    "ax.set_title('Sample Means of Pieces of Mail\\n Arriving at your door')\n",
    "ax.set_xlabel('Number of pieces of mail')"
   ]
  },
  {
   "cell_type": "markdown",
   "metadata": {},
   "source": [
    "# Group 3 \n",
    "\n",
    "The population data for the number of minutes between customers arriving in a Piggly Wiggly is stored in the variable piggly_population."
   ]
  },
  {
   "cell_type": "code",
   "execution_count": null,
   "metadata": {},
   "outputs": [],
   "source": [
    "# on average, 20 customers enter per hour\n",
    "piggly_population = np.random.exponential(1/(20/60), size=10000)\n",
    "fig, ax = plt.subplots()\n",
    "ax.hist(piggly_population, bins = 50, normed=True)\n",
    "ax.set_title('Sample Means of Time Between Piggle Wiggly Customers')\n",
    "ax.set_xlabel('Minutes');"
   ]
  },
  {
   "cell_type": "code",
   "execution_count": null,
   "metadata": {},
   "outputs": [],
   "source": [
    "#__SOLUTION__\n",
    "\n",
    "sample_means = []\n",
    "for n in range(1000):\n",
    "    sample = np.random.choice(piggly_population, 50)\n",
    "    sample_means.append(sample.mean())\n",
    "    \n",
    "fig, ax = plt.subplots()\n",
    "ax.hist(sample_means, bins = 30);\n",
    "ax.set_title(\"\"\"Sample means of number of minutes\\n between people entering a Piggly Wiggly\"\"\")\n",
    "ax.set_xlabel(\"Number of minutes between customers\")"
   ]
  },
  {
   "cell_type": "markdown",
   "metadata": {},
   "source": [
    "# Group 4\n",
    "\n",
    "Suppose the San Francisco's Muni Metro system has an average weekday ridership of 160,000 people with a standard deviation of 10,000.  \n",
    "\n",
    "On the weekends, the ridership is 90,000 people with a standard deviation of 8,000.\n",
    "\n",
    "We can generate this bimodal distribution like so:"
   ]
  },
  {
   "cell_type": "code",
   "execution_count": 33,
   "metadata": {},
   "outputs": [
    {
     "name": "stderr",
     "output_type": "stream",
     "text": [
      "/Users/johnmaxbarry/.local/lib/python3.7/site-packages/ipykernel_launcher.py:9: MatplotlibDeprecationWarning: \n",
      "The 'normed' kwarg was deprecated in Matplotlib 2.1 and will be removed in 3.1. Use 'density' instead.\n",
      "  if __name__ == '__main__':\n"
     ]
    },
    {
     "data": {
      "image/png": "[encoded data removed]",
      "text/plain": [
       "<Figure size 432x288 with 1 Axes>"
      ]
     },
     "metadata": {
      "needs_background": "light"
     },
     "output_type": "display_data"
    }
   ],
   "source": [
    "import numpy as np\n",
    "import matplotlib.pyplot as plt\n",
    "weekday = list(np.random.normal(160000, 10000, 1000))\n",
    "weekend = list(np.random.normal(90000, 8000, 1000))\n",
    "\n",
    "total_average_rides = weekday + weekend\n",
    "\n",
    "fig, ax = plt.subplots()\n",
    "ax.hist(total_average_rides, bins = 50, normed=True)\n",
    "ax.set_title('Average Rides Per Day')\n",
    "ax.set_xlabel('Average Ridership ');"
   ]
  },
  {
   "cell_type": "code",
   "execution_count": 34,
   "metadata": {},
   "outputs": [],
   "source": [
    "# Sample from total average rides"
   ]
  },
  {
   "cell_type": "code",
   "execution_count": 37,
   "metadata": {},
   "outputs": [
    {
     "data": {
      "text/plain": [
       "(array([ 10.,  17.,  76., 176., 243., 215., 165.,  77.,  16.,   5.]),\n",
       " array([107361.71802535, 111002.74237424, 114643.76672313, 118284.79107201,\n",
       "        121925.8154209 , 125566.83976979, 129207.86411867, 132848.88846756,\n",
       "        136489.91281645, 140130.93716533, 143771.96151422]),\n",
       " <a list of 10 Patch objects>)"
      ]
     },
     "execution_count": 37,
     "metadata": {},
     "output_type": "execute_result"
    },
    {
     "data": {
      "image/png": "[encoded data removed]",
      "text/plain": [
       "<Figure size 432x288 with 1 Axes>"
      ]
     },
     "metadata": {
      "needs_background": "light"
     },
     "output_type": "display_data"
    }
   ],
   "source": [
    "#_SOLUTION__\n",
    "\n",
    "means_list = []\n",
    "for _ in range(1000):\n",
    "    means_list.append(np.random.choice(total_average_rides, 40).mean())\n",
    "    \n",
    "fig, ax = plt.subplots()\n",
    "ax.hist(means_list)"
   ]
  },
  {
   "cell_type": "markdown",
   "metadata": {
    "slideshow": {
     "slide_type": "slide"
    }
   },
   "source": [
    "# 3. Central Limit Theorem"
   ]
  },
  {
   "cell_type": "markdown",
   "metadata": {
    "slideshow": {
     "slide_type": "slide"
    }
   },
   "source": [
    "If we take repeated samples of a population, the sampling distribution of sample means will approximate to a normal distribution, no matter the underlying distribution!\n",
    "\n",
    "## $E(\\bar{x_{n}}) = \\mu$\n",
    "\n",
    "as n --> \"large\"\n",
    "\n",
    "[good D3 example](https://seeing-theory.brown.edu/probability-distributions/index.html)\n",
    "\n",
    "[good video demonstration](https://www.youtube.com/watch?v=jvoxEYmQHNM)\n"
   ]
  },
  {
   "cell_type": "markdown",
   "metadata": {
    "slideshow": {
     "slide_type": "slide"
    }
   },
   "source": [
    "Let's look at an example taken from the ubiquitous Iris dataset. This histogram represents the distributions of sepal length:\n",
    "\n",
    "\n",
    "![probgif](./img/probability-basics.gif)"
   ]
  },
  {
   "cell_type": "markdown",
   "metadata": {},
   "source": [
    "https://www.kaggle.com/tentotheminus9/central-limit-theorem-animation"
   ]
  },
  {
   "cell_type": "markdown",
   "metadata": {},
   "source": [
    "As we will see in hypothesis testing, pairing this theorem with the Empirical rule will be very powerful.\n",
    "\n",
    "![empirical](img/empirical_rule.png)\n",
    "\n"
   ]
  },
  {
   "cell_type": "markdown",
   "metadata": {},
   "source": [
    "Knowing that any sampling distribtion, no matter the underlying population distribution, will approach normality, we will be able to judge, given the empirical rule, how rare a given sample statistic is.  "
   ]
  },
  {
   "cell_type": "markdown",
   "metadata": {
    "slideshow": {
     "slide_type": "slide"
    }
   },
   "source": [
    "## Bike Example\n",
    "Capital bike share is trying to figure out their pricing for members versus non-members. The first step in their analysis is to see if members vs non-members ride for different amounts of time per ride.\n",
    "\n",
    "Let's head over [here](https://s3.amazonaws.com/capitalbikeshare-data/index.html) for some DC bike data!"
   ]
  },
  {
   "cell_type": "code",
   "execution_count": null,
   "metadata": {
    "slideshow": {
     "slide_type": "subslide"
    }
   },
   "outputs": [],
   "source": [
    "import pandas as pd\n",
    "import numpy as np\n",
    "import matplotlib.pyplot as plt\n",
    "import requests\n",
    "%matplotlib inline\n"
   ]
  },
  {
   "cell_type": "code",
   "execution_count": null,
   "metadata": {},
   "outputs": [],
   "source": [
    "! curl https://divvy-tripdata.s3.amazonaws.com/Divvy_Trips_2020_Q1.zip -o 'data/divy_2020_Q1.zip'\n",
    "! unzip divy_2020_Q1.zip -d data"
   ]
  },
  {
   "cell_type": "code",
   "execution_count": null,
   "metadata": {},
   "outputs": [],
   "source": [
    "from src.data_import import prep_divy\n",
    "\n",
    "divy_trips = prep_divy()\n"
   ]
  },
  {
   "cell_type": "markdown",
   "metadata": {},
   "source": [
    "Remember the distribution has heavy right skew. \n",
    "Before proceeding, let's remove outliers which are greater than 3 standard deviations of the mean\n"
   ]
  },
  {
   "cell_type": "code",
   "execution_count": null,
   "metadata": {},
   "outputs": [],
   "source": [
    "# Store the number of rides in the original dataframe for comparison\n",
    "original_number_of_rides = divy_trips.shape[0]\n",
    "original_number_of_rides\n",
    "# your code here\n"
   ]
  },
  {
   "cell_type": "code",
   "execution_count": null,
   "metadata": {},
   "outputs": [],
   "source": [
    "#__SOLUTION__\n",
    "# Remember the distribution has heavy right skew. \n",
    "# Before proceeding, let's remove outliers which are greater than 3 standard deviations of the mean\n",
    "\n",
    "divy_trips = divy_trips[divy_trips.ride_time<divy_trips.ride_time.std()*3]\n"
   ]
  },
  {
   "cell_type": "code",
   "execution_count": null,
   "metadata": {},
   "outputs": [],
   "source": [
    "divy_trips.shape[0]"
   ]
  },
  {
   "cell_type": "code",
   "execution_count": null,
   "metadata": {},
   "outputs": [],
   "source": [
    "#__SOLUTION__\n",
    "# How many rides were lost\n",
    "original_number_of_rides - divy_trips.shape[0]"
   ]
  },
  {
   "cell_type": "code",
   "execution_count": null,
   "metadata": {},
   "outputs": [],
   "source": [
    "# Divide the data set into casual and member groups\n",
    "\n",
    "casual = None\n",
    "member = None"
   ]
  },
  {
   "cell_type": "code",
   "execution_count": null,
   "metadata": {},
   "outputs": [],
   "source": [
    "#__SOLUTION__\n",
    "# Divide the data set into casual and member groups\n",
    "\n",
    "casual = divy_trips[divy_trips.member_casual == 'casual']\n",
    "member = divy_trips[divy_trips.member_casual == 'member']"
   ]
  },
  {
   "cell_type": "code",
   "execution_count": null,
   "metadata": {},
   "outputs": [],
   "source": [
    "# Calculate the mean and standard deviation of each group's ride times\n",
    "# Your code here\n",
    "\n",
    "print(f\"Casual mean ride time: {casual_mean_ride_time}\")\n",
    "print(f\"Member mean ride time: {member_mean_ride_time}\")\n",
    "\n",
    "print(f\"Casual std ride time: {casual_std_ride_time}\")\n",
    "print(f\"Member mean ride time: {member_std_ride_time}\")"
   ]
  },
  {
   "cell_type": "code",
   "execution_count": null,
   "metadata": {},
   "outputs": [],
   "source": [
    "#__SOLUTION__\n",
    "# Calculate the mean and standard deviation of each group's ride times\n",
    "\n",
    "casual_mean_ride_time = casual.ride_time.mean()\n",
    "member_mean_ride_time = member.ride_time.mean()\n",
    "\n",
    "casual_std_ride_time = casual.ride_time.std()\n",
    "member_std_ride_time = member.ride_time.std()\n",
    "\n",
    "print(f\"Casual mean ride time: {casual_mean_ride_time}\")\n",
    "print(f\"Member mean ride time: {member_mean_ride_time}\")\n",
    "\n",
    "print(f\"Casual std ride time: {casual_std_ride_time}\")\n",
    "print(f\"Member mean ride time: {member_std_ride_time}\")"
   ]
  },
  {
   "cell_type": "code",
   "execution_count": null,
   "metadata": {},
   "outputs": [],
   "source": [
    "# Using np.random.choice take a sample of 40 ride times from the casual group\n",
    "np.random.seed(42)\n",
    "# Your code here"
   ]
  },
  {
   "cell_type": "code",
   "execution_count": null,
   "metadata": {},
   "outputs": [],
   "source": [
    "#__SOLUTION__\n",
    "casual_sample = np.random.choice(casual.ride_time, 40)"
   ]
  },
  {
   "cell_type": "code",
   "execution_count": null,
   "metadata": {},
   "outputs": [],
   "source": [
    "# Calculate the mean and std of the casual sample (sample statistics)\n",
    "\n",
    "np.random.seed(42)\n",
    "\n",
    "casual_sample_mean = None\n",
    "casual_sample_std = None\n",
    "print(f\"casual_sample mean: {casual_sample_mean}\")\n",
    "print(f\"casual_sample std: {casual_sample_std}\")\n"
   ]
  },
  {
   "cell_type": "code",
   "execution_count": null,
   "metadata": {},
   "outputs": [],
   "source": [
    "#__SOLUTION__\n",
    "np.random.seed(42)\n",
    "\n",
    "casual_sample_mean = casual_sample.mean()\n",
    "casual_sample_std = casual_sample.std()\n",
    "print(f\"casual_sample mean: {casual_sample_mean}\")\n",
    "print(f\"casual_sample std: {casual_sample_std}\")"
   ]
  },
  {
   "cell_type": "code",
   "execution_count": null,
   "metadata": {},
   "outputs": [],
   "source": [
    "# Using np.random.choice take a sample of 40 ride times from the member group\n",
    "np.random.seed(42)\n",
    "\n"
   ]
  },
  {
   "cell_type": "code",
   "execution_count": null,
   "metadata": {},
   "outputs": [],
   "source": [
    "#__SOLUTION__\n",
    "np.random.seed(42)\n",
    "\n",
    "member_sample = np.random.choice(member.ride_time, 40)\n"
   ]
  },
  {
   "cell_type": "code",
   "execution_count": null,
   "metadata": {},
   "outputs": [],
   "source": [
    "# Calculate the mean and std of the member sample (sample statistics)\n",
    "member_sample_mean = None\n",
    "member_sample_std = None\n",
    "print(f\"member_sample mean: {member_sample_mean}\")\n",
    "print(f\"member_sample std: {member_sample_std}\")"
   ]
  },
  {
   "cell_type": "code",
   "execution_count": null,
   "metadata": {},
   "outputs": [],
   "source": [
    "#__SOLUTION__\n",
    "\n",
    "member_sample_mean = member_sample.mean()\n",
    "member_sample_std = member_sample.std()\n",
    "print(f\"member_sample mean: {member_sample_mean}\")\n",
    "print(f\"member_sample std: {member_sample_std}\")"
   ]
  },
  {
   "cell_type": "code",
   "execution_count": null,
   "metadata": {},
   "outputs": [],
   "source": [
    "# Repeat the sample 1000 times for both groups, and store the means of each of 1000 samples in two lists.\n"
   ]
  },
  {
   "cell_type": "code",
   "execution_count": null,
   "metadata": {},
   "outputs": [],
   "source": [
    "#__SOLUTION__\n",
    "member_means = []\n",
    "\n",
    "for _ in range(1000):\n",
    "    new_sample = np.random.choice(member.ride_time, 40)\n",
    "    member_means.append(new_sample.mean())\n",
    "\n",
    "    "
   ]
  },
  {
   "cell_type": "code",
   "execution_count": null,
   "metadata": {},
   "outputs": [],
   "source": [
    "#__SOLUTION__\n",
    "casual_means = []\n",
    "\n",
    "for _ in range(1000):\n",
    "    new_sample = np.random.choice(casual.ride_time, 40)\n",
    "    casual_means.append(new_sample.mean())\n"
   ]
  },
  {
   "cell_type": "code",
   "execution_count": null,
   "metadata": {},
   "outputs": [],
   "source": [
    "# plot the sampling distribution of both the casual and member groups\n",
    "\n",
    "fig, ax = plt.subplots()\n",
    "\n",
    "ax.hist(member_means, bins=100)\n",
    "ax.hist(casual_means, bins=100);"
   ]
  },
  {
   "cell_type": "markdown",
   "metadata": {},
   "source": [
    "# There are three ways we could calculate the Standard Error of the Mean\n",
    "    1. Since we are sampling from a large population of rides, we could calculate it using the population std.\n",
    "    2. Since we used numpy to randomly sampled the means, we could take the mean of the sample (should be very close to the number calculated above)\n",
    "    3. We could use our original samples to approximate the SEM. \n"
   ]
  },
  {
   "cell_type": "code",
   "execution_count": null,
   "metadata": {},
   "outputs": [],
   "source": [
    "# 1. Calculate it using the population std for both member and casual.\n"
   ]
  },
  {
   "cell_type": "code",
   "execution_count": null,
   "metadata": {},
   "outputs": [],
   "source": [
    "#__SOLUTION__\n",
    "# 1. Calculate it using the population std for both member and casual.\n",
    "\n",
    "sem_member = member.ride_time.std()/np.sqrt(40)\n",
    "sem_casual = casual.ride_time.std()/np.sqrt(40)\n",
    "\n",
    "print(f\"SEM Member: {sem_member}\")\n",
    "print(f\"SEM Casual: {sem_casual}\")"
   ]
  },
  {
   "cell_type": "code",
   "execution_count": null,
   "metadata": {},
   "outputs": [],
   "source": [
    "# 2. Calculate the standard error of the mean of both populations using the randomly generated samples\n"
   ]
  },
  {
   "cell_type": "code",
   "execution_count": null,
   "metadata": {},
   "outputs": [],
   "source": [
    "#__SOLUTION__\n",
    "# 2. Calculate the standard error of the mean of both populations using the randomly generated samples\n",
    "\n",
    "sem_member = np.std(member_means)\n",
    "sem_casual = np.std(casual_means)\n",
    "print(f\"Standard error of mean (member): {sem_member}\")\n",
    "print(f\"Standard error of mean (casual): {sem_casual}\")"
   ]
  },
  {
   "cell_type": "code",
   "execution_count": null,
   "metadata": {},
   "outputs": [],
   "source": [
    "# 3. Use our samples to approximate the SEM for both casual and member"
   ]
  },
  {
   "cell_type": "code",
   "execution_count": null,
   "metadata": {},
   "outputs": [],
   "source": [
    "#__SOLUTION__\n",
    "sem_approximate_casual = casual_sample_mean/np.sqrt(40)"
   ]
  },
  {
   "cell_type": "code",
   "execution_count": null,
   "metadata": {},
   "outputs": [],
   "source": [
    "#__SOLUTION__\n",
    "sem_approximate_member = member_sample_mean/np.sqrt(40)"
   ]
  },
  {
   "cell_type": "code",
   "execution_count": null,
   "metadata": {},
   "outputs": [],
   "source": [
    "# Calculate the z_score of the casual sample wrt the member sampling distribution"
   ]
  },
  {
   "cell_type": "code",
   "execution_count": null,
   "metadata": {},
   "outputs": [],
   "source": [
    "# Your Code Here"
   ]
  },
  {
   "cell_type": "code",
   "execution_count": null,
   "metadata": {},
   "outputs": [],
   "source": [
    "#__SOLUTION__\n",
    "\n",
    "(casual_sample.mean() - np.mean(member_means))/sem_member\n"
   ]
  }
 ],
 "metadata": {
  "kernelspec": {
   "display_name": "Python 3",
   "language": "python",
   "name": "python3"
  },
  "language_info": {
   "codemirror_mode": {
    "name": "ipython",
    "version": 3
   },
   "file_extension": ".py",
   "mimetype": "text/x-python",
   "name": "python",
   "nbconvert_exporter": "python",
   "pygments_lexer": "ipython3",
   "version": "3.7.3"
  }
 },
 "nbformat": 4,
 "nbformat_minor": 4
}
